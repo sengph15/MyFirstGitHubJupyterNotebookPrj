{
 "cells": [
  {
   "cell_type": "markdown",
   "metadata": {},
   "source": [
    "# Python Basics\n",
    "\n",
    "\n",
    "#### Objectives:\n",
    "* Input and Output\n",
    "* Basic Data Types\n",
    "* More on Strings"
   ]
  },
  {
   "cell_type": "markdown",
   "metadata": {},
   "source": [
    "## 1. Input & Output\n",
    "\n",
    "### 1.1 Get User Input\n",
    "\n",
    "You can ask user for some input using Python built-in `input()` function. \n",
    "* When `input()` function is called, the program will stop and wait for user to key in some data.\n",
    "* It is optional to add prompt as function parameter.\n",
    "* It always returns a string value.\n",
    "\n",
    "<span style=\"background-color:#ffffba;text-decoration:underline;\">Exercise:</span>\n",
    "\n",
    "What is the output from `type(x)` command?"
   ]
  },
  {
   "cell_type": "code",
   "execution_count": null,
   "metadata": {},
   "outputs": [],
   "source": []
  },
  {
   "cell_type": "markdown",
   "metadata": {},
   "source": [
    "Learn more about the `input()` function from help:"
   ]
  },
  {
   "cell_type": "code",
   "execution_count": null,
   "metadata": {},
   "outputs": [],
   "source": []
  },
  {
   "cell_type": "markdown",
   "metadata": {},
   "source": [
    "### 1.2 Print Out\n",
    "\n",
    "Python provides a built-in function `print()` to display data to the console or a file object.\n",
    "\n",
    "```\n",
    "print(...)\n",
    "    print(value, ..., sep=' ', end='\\n', file=sys.stdout, flush=False)\n",
    "```\n",
    "\n",
    "Understand more about `print()` function:\n",
    "* It can accept multiple values, and uses `sep` value to separate them in output. By default, the `sep` value is a space(` `).\n",
    "* It automatically appends an `end` string at the end. By default, the `end` value is a new line (`\\n`).\n",
    "* It outputs data to a file object defined in `file`, which has a default value `sys.stdout` (console).\n",
    "\n",
    "<span style=\"background-color:#ffffba;text-decoration:underline;\">Exercise:</span>"
   ]
  },
  {
   "cell_type": "code",
   "execution_count": null,
   "metadata": {},
   "outputs": [],
   "source": []
  },
  {
   "cell_type": "markdown",
   "metadata": {
    "slideshow": {
     "slide_type": "slide"
    }
   },
   "source": [
    "## 2. Basic Data Types\n",
    "\n",
    "In programming, a **data type** defines the type of a data and its expected behavior.\n",
    "* Variables are commonly associated with a particular data type.\n",
    "\n",
    "### 2.1 Overview of Data Types\n",
    "\n",
    "Python support many data types, which allow us to implement solutions quickly using Python.\n",
    "\n",
    "#### Common Data Types\n",
    "* Boolean\n",
    "* Numbers\n",
    "* String\n",
    "\n",
    "#### Collection Data Types\n",
    "List, Tuple, Dictionary and Set are 4 collection data types in Python.\n",
    "* **List** is a collection which is ordered and changeable. \n",
    "    * Allows duplicate members.\n",
    "* **Tuple** is a collection which is ordered and unchangeable.\n",
    "    * Allows duplicate members.\n",
    "* **Dictionary** is a collection which is unordered, changeable and indexed. \n",
    "    * No duplicate members.\n",
    "* **Set** is a collection which is unordered and unindexed. \n",
    "    * No duplicate members.\n",
    "\n",
    "#### Function type() & isinstance()\n",
    "\n",
    "The `type()` function can be used to check data type of a variable or a value.\n",
    "\n",
    "The `isinstance()` function can be used to test the type of an object.\n",
    "\n",
    "<span style=\"background-color:#ffffba;text-decoration:underline;\">Exercise:</span>"
   ]
  },
  {
   "cell_type": "code",
   "execution_count": null,
   "metadata": {},
   "outputs": [],
   "source": []
  },
  {
   "cell_type": "markdown",
   "metadata": {},
   "source": [
    "### 2.2 Booleans\n",
    "\n",
    "A Boolean variable can represent either `True` or `False`.\n",
    "* Boolean values are commonly associated with comparison operators, which will be covered in another session.\n",
    "\n",
    "<span style=\"background-color:#ffffba;text-decoration:underline;\">Exercise:</span>"
   ]
  },
  {
   "cell_type": "code",
   "execution_count": null,
   "metadata": {},
   "outputs": [],
   "source": []
  },
  {
   "cell_type": "markdown",
   "metadata": {},
   "source": [
    "### 2.3 Numbers\n",
    "\n",
    "Numbers in Python are classified into **int**, **float**, and **complex**.\n",
    "* The **int** type can contain integer values\n",
    "* The **float** type can contain decimal values\n",
    "* The **complex** type can contain imaginery values. Add a “j” or “J” after a number to make it imaginary or complex.\n",
    "\n",
    "<span style=\"background-color:#ffffba;text-decoration:underline;\">Exercise:</span>\n",
    "Run following statements line by line. (Press `CTRL + ENTER` after typing each line)"
   ]
  },
  {
   "cell_type": "code",
   "execution_count": null,
   "metadata": {},
   "outputs": [],
   "source": []
  },
  {
   "cell_type": "markdown",
   "metadata": {},
   "source": [
    "#### Integer of Different Number Systems\n",
    "\n",
    "We normally use <u>Decimal (base 10)</u> number system to reprsent an integer. Python also supports other number systems:\n",
    "* Binary (base 2)       \n",
    "* Octal (base 8)       \n",
    "* Hexadecimal (base 16) \n",
    "\n",
    "<span style=\"background-color:#ffffba;text-decoration:underline;\">Exercise:</span>\n",
    "Run following statements line by line."
   ]
  },
  {
   "cell_type": "code",
   "execution_count": null,
   "metadata": {},
   "outputs": [],
   "source": []
  },
  {
   "cell_type": "markdown",
   "metadata": {},
   "source": [
    "Conversion between decimal and other number systems.\n",
    "* Note: After conversion, the data type will be String."
   ]
  },
  {
   "cell_type": "code",
   "execution_count": null,
   "metadata": {},
   "outputs": [],
   "source": []
  },
  {
   "cell_type": "markdown",
   "metadata": {},
   "source": [
    "### 2.4 Strings\n",
    "\n",
    "String is a sequence of one or more characters enclosed within any of following quotes.\n",
    "* single-quotes `' '`\n",
    "* double-quotes `\" \"`\n",
    "* Triple single-quotes `''' '''`\n",
    "\n",
    "Python supports multi-line strings using a triple single-quotation mark at the start and one at the end."
   ]
  },
  {
   "cell_type": "markdown",
   "metadata": {},
   "source": [
    "<span style=\"background-color:#ffffba;text-decoration:underline;\">Exercise:</span>"
   ]
  },
  {
   "cell_type": "code",
   "execution_count": null,
   "metadata": {},
   "outputs": [],
   "source": []
  },
  {
   "cell_type": "markdown",
   "metadata": {},
   "source": [
    "#### Escape Character `\\`\n",
    "\n",
    "Similiar to other programming langugae, Python uses `\\` (backslash) as escape character in strings.\n",
    "\n",
    "Here are some common escape characters that are represented using backslash notation.\n",
    "\n",
    "| Symbol | Character   |\n",
    "|------|------|\n",
    "| `\\\"` | Double-quote (\") |\n",
    "| `\\'` | Single-quote (') |\n",
    "| `\\n` | Line feed (LF) or new line |\n",
    "| `\\t` | Horizontal Tab (TAB) |\n",
    "| `\\\\` | Backslash (\\) |"
   ]
  },
  {
   "cell_type": "markdown",
   "metadata": {},
   "source": [
    "<span style=\"background-color:#ffffba;text-decoration:underline;\">Exercise:</span>\n",
    "Escape characters in Strings"
   ]
  },
  {
   "cell_type": "code",
   "execution_count": null,
   "metadata": {},
   "outputs": [],
   "source": []
  },
  {
   "cell_type": "markdown",
   "metadata": {},
   "source": [
    "<span style=\"background-color:#ffffba;text-decoration:underline;\">Exercise:</span>\n",
    "For these examples, it uses combination of single-quote (`'`) and double-quote (`\"`)  instead of escape character."
   ]
  },
  {
   "cell_type": "code",
   "execution_count": null,
   "metadata": {},
   "outputs": [],
   "source": []
  },
  {
   "cell_type": "markdown",
   "metadata": {},
   "source": [
    "### 2.5 List\n",
    "\n",
    "A list is a collection which is ordered and changeable. \n",
    "\n",
    "#### Create List\n",
    "* Lists are writen with square brackets `[]`.\n",
    "\n",
    "\n",
    "#### Access Items by Index\n",
    "* List items can be accessed by its index number, which starts from 0.\n",
    "* Negative indexing means beginning from the end, -1 refers to the last item, -2 refers to the second last item etc.\n",
    "\n",
    "<div>\n",
    "<img src=\"attachment:image.png\" width=400 />\n",
    "</div>"
   ]
  },
  {
   "cell_type": "markdown",
   "metadata": {},
   "source": [
    "<span style=\"background-color:#ffffba;text-decoration:underline;\">Exercise:</span>\n",
    "Create a list of fruits."
   ]
  },
  {
   "cell_type": "code",
   "execution_count": null,
   "metadata": {},
   "outputs": [],
   "source": []
  },
  {
   "cell_type": "markdown",
   "metadata": {},
   "source": [
    "<span style=\"background-color:#ffffba;text-decoration:underline;\">Exercise:</span>\n",
    "Find out 2nd and last item in the list."
   ]
  },
  {
   "cell_type": "code",
   "execution_count": null,
   "metadata": {},
   "outputs": [],
   "source": []
  },
  {
   "cell_type": "markdown",
   "metadata": {},
   "source": [
    "#### Change Item Value\n",
    "* To change the value of a specific item, using the index number."
   ]
  },
  {
   "cell_type": "markdown",
   "metadata": {},
   "source": [
    "<span style=\"background-color:#ffffba;text-decoration:underline;\">Exercise:</span>\n",
    "Update 3rd item to `'Cherry'`, and append another item `'durian'`."
   ]
  },
  {
   "cell_type": "code",
   "execution_count": null,
   "metadata": {},
   "outputs": [],
   "source": []
  },
  {
   "cell_type": "markdown",
   "metadata": {},
   "source": [
    "<span style=\"background-color:#ffffba;text-decoration:underline;\">Exercise:</span>\n",
    "Find out length of a list."
   ]
  },
  {
   "cell_type": "code",
   "execution_count": null,
   "metadata": {
    "scrolled": true
   },
   "outputs": [],
   "source": []
  },
  {
   "cell_type": "markdown",
   "metadata": {},
   "source": [
    "#### Loop Through a List\n",
    "It is common to use `for-loop` to iterate through the list items.\n",
    "\n",
    "<span style=\"background-color:#ffffba;text-decoration:underline;\">Exercise:</span>"
   ]
  },
  {
   "cell_type": "code",
   "execution_count": null,
   "metadata": {},
   "outputs": [],
   "source": []
  },
  {
   "cell_type": "markdown",
   "metadata": {},
   "source": [
    "#### Check if Item Exists\n",
    "To determine if a specified item is present in a list, use the `in` keyword.\n",
    "\n",
    "<span style=\"background-color:#ffffba;text-decoration:underline;\">Exercise:</span>"
   ]
  },
  {
   "cell_type": "code",
   "execution_count": null,
   "metadata": {},
   "outputs": [],
   "source": []
  },
  {
   "cell_type": "markdown",
   "metadata": {},
   "source": [
    "### 2.6 Tuple\n",
    "\n",
    "A tuple is a collection which is ordered and **unchangeable**. Other than immutability, it behaves similarly to List.\n",
    "* It is created using parenthesis `()`\n",
    "\n",
    "<span style=\"background-color:#ffffba;text-decoration:underline;\">Exercise:</span>\n",
    "Tuple has similar behaviors as List."
   ]
  },
  {
   "cell_type": "code",
   "execution_count": null,
   "metadata": {},
   "outputs": [],
   "source": []
  },
  {
   "cell_type": "markdown",
   "metadata": {},
   "source": [
    "<span style=\"background-color:#ffffba;text-decoration:underline;\">Exercise:</span>\n",
    "Error will be raised when you try to update a value. "
   ]
  },
  {
   "cell_type": "code",
   "execution_count": null,
   "metadata": {
    "scrolled": true
   },
   "outputs": [],
   "source": []
  },
  {
   "cell_type": "markdown",
   "metadata": {},
   "source": [
    "### 2.7 Dictionary\n",
    "\n",
    "A dictionary is a collection which is unordered, changeable and indexed. \n",
    "* Each item in dictionary has a key and a value.\n",
    "* It is created using curly brackets `{}`.\n",
    "* Value in a dictionary can be accessed by its key. \n",
    "\n",
    "<span style=\"background-color:#ffffba;text-decoration:underline;\">Exercise:</span>\n",
    "Create a new dictionary."
   ]
  },
  {
   "cell_type": "code",
   "execution_count": null,
   "metadata": {},
   "outputs": [],
   "source": []
  },
  {
   "cell_type": "markdown",
   "metadata": {},
   "source": [
    "<span style=\"background-color:#ffffba;text-decoration:underline;\">Exercise:</span>\n",
    "Value of a dictionary item can be accessed by its key. "
   ]
  },
  {
   "cell_type": "code",
   "execution_count": null,
   "metadata": {},
   "outputs": [],
   "source": []
  },
  {
   "cell_type": "markdown",
   "metadata": {},
   "source": [
    "## 3. Type Conversion\n",
    "\n",
    "### 3.1 Dynamically and Strongly Typed\n",
    "\n",
    "Python is a **dynamically typed** language. Type of a variable is only evaluated during run time, e.g. during variable creation.\n",
    "\n",
    "Python is a **strongly typed language**. Variables of different type will not be automatically converted before operation."
   ]
  },
  {
   "cell_type": "markdown",
   "metadata": {},
   "source": [
    "<span style=\"background-color:#ffffba;text-decoration:underline;\">Exercise:</span>\n",
    "Correct the mistake in following code."
   ]
  },
  {
   "cell_type": "code",
   "execution_count": null,
   "metadata": {},
   "outputs": [],
   "source": []
  },
  {
   "cell_type": "markdown",
   "metadata": {},
   "source": [
    "### 3.2 Type Casting\n",
    "\n",
    "There may be times when you want to specify a type on to a variable. This can be done with casting.\n",
    "\n",
    "Casting can be done using constructor functions:\n",
    "* `int()` - constructs an integer number\n",
    "* `float()` - constructs a float number\n",
    "* `str()` - constructs a string\n",
    "\n",
    "<span style=\"background-color:#ffffba;text-decoration:underline;\">Exercise:</span>\n",
    "Convert values `123`, `1.23` and `'123'` to integer."
   ]
  },
  {
   "cell_type": "code",
   "execution_count": null,
   "metadata": {},
   "outputs": [],
   "source": []
  },
  {
   "cell_type": "markdown",
   "metadata": {},
   "source": [
    "<span style=\"background-color:#ffffba;text-decoration:underline;\">Exercise:</span>\n",
    "More practice"
   ]
  },
  {
   "cell_type": "code",
   "execution_count": null,
   "metadata": {},
   "outputs": [],
   "source": []
  }
 ],
 "metadata": {
  "kernelspec": {
   "display_name": "Python 3",
   "language": "python",
   "name": "python3"
  },
  "language_info": {
   "codemirror_mode": {
    "name": "ipython",
    "version": 3
   },
   "file_extension": ".py",
   "mimetype": "text/x-python",
   "name": "python",
   "nbconvert_exporter": "python",
   "pygments_lexer": "ipython3",
   "version": "3.7.3"
  }
 },
 "nbformat": 4,
 "nbformat_minor": 2
}
