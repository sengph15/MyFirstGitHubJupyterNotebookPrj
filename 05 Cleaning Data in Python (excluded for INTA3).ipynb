{
  "cells": [
    {
      "metadata": {
        "slideshow": {
          "slide_type": "slide"
        }
      },
      "cell_type": "markdown",
      "source": "## Cleaning Data in Python\n\n## Part 2 of 4"
    },
    {
      "metadata": {},
      "cell_type": "markdown",
      "source": "### Course Description\n\nA vital component of data science involves acquiring raw data and getting it into a form ready for analysis. It is commonly said that data scientists spend 80% of their time cleaning and manipulating data, and only 20% of their time actually analyzing it. This beginner course will equip you with all the skills you need to clean your data in Python, from learning how to diagnose problems in your data, to dealing with missing values and outliers. At the end of the course, you'll apply all of the techniques you've learned to a case study to clean a real-world Gapminder dataset."
    },
    {
      "metadata": {},
      "cell_type": "markdown",
      "source": "### Objectives:\n\n#### 1. Exploring your datasets\n#### 2. Tidying data for analysis\n#### 3. Cleaning data for analysis\n#### 4. Case study\n\n#### 1. Exploring your datasets\nYou have just got a brand new dataset and are itching to start exploring it. But where do you begin, and how can you be sure your dataset is clean? This chapter will introduce you to data cleaning in Python. You'll learn how to explore your data with an eye for diagnosing issues such as outliers, missing values, and duplicate rows\n\n#### 2. Tidying data for analysis\nLearn about the principles of tidy data, and more importantly, why you should care about them and how they make data analysis more efficient. You'll gain first-hand experience with reshaping and tidying data using techniques such as pivoting and melting.\n\n#### 3. Cleaning data for analysis\nDive into some of the grittier aspects of data cleaning. Learn about string manipulation and pattern matching to deal with unstructured data, and then explore techniques to deal with missing or duplicate data. You'll also learn the valuable skill of programmatically checking your data for consistency, which will give you confidence that your code is running correctly and that the results of your analysis are reliable.\n\n#### 4. Case study\nIn this final chapter, you'll apply all of the data cleaning techniques you've learned in this course toward tidying a real-world, messy dataset obtained from the Gapminder Foundation. Once you're done, not only will you have a clean and tidy dataset, you'll also be ready to start working on your own data science projects using Python."
    },
    {
      "metadata": {},
      "cell_type": "markdown",
      "source": "## 2. Tidying data for analysis\n\n* 2.1 Tidy data\n* 2.2 Recognizing tidy data\n* 2.3 Reshaping your data using melt\n* 2.4 Customizing melted data\n* 2.5 Pivoting data\n* 2.6 Pivot data\n* 2.7 Resetting the index of a DataFrame\n* 2.8 Pivoting duplicate values\n* 2.9 Beyond melt() and pivot()\n* 2.10 Splitting a column with .str\n* 2.11 Splitting a column with .split() and .get()\n"
    },
    {
      "metadata": {},
      "cell_type": "markdown",
      "source": "#### This lesson is under development\n\nThe contents of this lesson is not included as it has concepts which requires your understanding on pandas\n"
    },
    {
      "metadata": {},
      "cell_type": "markdown",
      "source": "## End of Lesson 2 - Tidying data for analysis\n"
    },
    {
      "metadata": {
        "trusted": true
      },
      "cell_type": "code",
      "source": "",
      "execution_count": null,
      "outputs": []
    }
  ],
  "metadata": {
    "kernelspec": {
      "name": "python3",
      "display_name": "Python 3",
      "language": "python"
    },
    "language_info": {
      "mimetype": "text/x-python",
      "nbconvert_exporter": "python",
      "name": "python",
      "pygments_lexer": "ipython3",
      "version": "3.5.4",
      "file_extension": ".py",
      "codemirror_mode": {
        "version": 3,
        "name": "ipython"
      }
    }
  },
  "nbformat": 4,
  "nbformat_minor": 2
}