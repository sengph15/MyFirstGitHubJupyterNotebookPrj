{
 "cells": [
  {
   "cell_type": "markdown",
   "metadata": {},
   "source": [
    "# Operators"
   ]
  },
  {
   "cell_type": "markdown",
   "metadata": {},
   "source": [
    "## 1. What is an Operator?\n",
    "\n",
    "**Operators** \n",
    "* Symbols that perform <u>operations</u> on variables and values.\n",
    "\n",
    "**Operands** \n",
    "* Variables or values which are passed as inputs to an operator.\n",
    "\n",
    "For example: `10 - 4`\n",
    "* `-` is an operator which performs `minus` operation\n",
    "* `10` and `4` are operands"
   ]
  },
  {
   "cell_type": "markdown",
   "metadata": {},
   "source": [
    "Similar to many programming languages, Python reserves some special characters for acting as operators.\n",
    "\n",
    "Python operators are grouped into following categories:\n",
    "* Arithmetic operators\n",
    "* Comparison operators\n",
    "* Identity operators\n",
    "* Membership operators\n",
    "* Logical operators\n",
    "* Assignment operators\n",
    "* Bitwise operators"
   ]
  },
  {
   "cell_type": "markdown",
   "metadata": {},
   "source": [
    "## 2. Operators"
   ]
  },
  {
   "cell_type": "markdown",
   "metadata": {},
   "source": [
    "### 2.1 Arithmetic Operators\n",
    "\n",
    "Arithmetic operators perform common mathematical operations on values.\n",
    "\n",
    "| Operator | Name           | Example |\n",
    "|:----------|:----------------|:---------|\n",
    "| +        | Addition       | x + y   |\n",
    "| -        | Subtraction    | x - y   |\n",
    "| *        | Multiplication | x * y   |\n",
    "| /        | Division       | x / y   |\n",
    "| //       | Floor division | x // y  |\n",
    "| %        | Modulus        | x % y   |\n",
    "| **       | Exponentiation | x ** y  |"
   ]
  },
  {
   "cell_type": "markdown",
   "metadata": {},
   "source": [
    "#### Addition `+`, Subtraction `-`"
   ]
  },
  {
   "cell_type": "code",
   "execution_count": null,
   "metadata": {},
   "outputs": [],
   "source": []
  },
  {
   "cell_type": "markdown",
   "metadata": {},
   "source": [
    "#### Multiplication `*`"
   ]
  },
  {
   "cell_type": "code",
   "execution_count": null,
   "metadata": {},
   "outputs": [],
   "source": []
  },
  {
   "cell_type": "markdown",
   "metadata": {},
   "source": [
    "#### Division `/`"
   ]
  },
  {
   "cell_type": "code",
   "execution_count": null,
   "metadata": {},
   "outputs": [],
   "source": []
  },
  {
   "cell_type": "markdown",
   "metadata": {},
   "source": [
    "#### Floor Division `//`"
   ]
  },
  {
   "cell_type": "code",
   "execution_count": null,
   "metadata": {},
   "outputs": [],
   "source": []
  },
  {
   "cell_type": "markdown",
   "metadata": {},
   "source": [
    "#### Modulus Division `%`"
   ]
  },
  {
   "cell_type": "code",
   "execution_count": null,
   "metadata": {},
   "outputs": [],
   "source": []
  },
  {
   "cell_type": "markdown",
   "metadata": {},
   "source": [
    "#### Exponential `**`"
   ]
  },
  {
   "cell_type": "code",
   "execution_count": null,
   "metadata": {},
   "outputs": [],
   "source": []
  },
  {
   "cell_type": "markdown",
   "metadata": {},
   "source": [
    "#### How to Round a number?\n",
    "\n",
    "Use `round()` function. \n",
    "*Note: https://stackoverflow.com/questions/10825926/python-3-x-rounding-behavior*"
   ]
  },
  {
   "cell_type": "code",
   "execution_count": null,
   "metadata": {},
   "outputs": [],
   "source": []
  },
  {
   "cell_type": "markdown",
   "metadata": {},
   "source": [
    "### 2.2 Comparison Operators\n",
    "\n",
    "Comparison operators are used to compare two values.\n",
    "* It returns a boolean value.\n",
    "\n",
    "| Operator \t| Name                     \t| Example \t|\n",
    "|:---------\t|:-------------------------\t|:--------\t|\n",
    "| >        \t| Greater than             \t| x > y   \t|\n",
    "| <        \t| Less than                \t| x < y   \t|\n",
    "| >=       \t| Greater than or equal to \t| x >= y  \t|\n",
    "| <=       \t| Less than or equal to    \t| x <= y  \t|\n",
    "| ==       \t| Equal                    \t| x == y  \t|\n",
    "| !=       \t| Not equal                \t| x != y  \t|"
   ]
  },
  {
   "cell_type": "markdown",
   "metadata": {},
   "source": [
    "#### Greater than `>`, Greater than or equal to `>=`"
   ]
  },
  {
   "cell_type": "code",
   "execution_count": null,
   "metadata": {},
   "outputs": [],
   "source": []
  },
  {
   "cell_type": "markdown",
   "metadata": {},
   "source": [
    "#### Euqal `==`, Not equal `!=`"
   ]
  },
  {
   "cell_type": "code",
   "execution_count": null,
   "metadata": {},
   "outputs": [],
   "source": []
  },
  {
   "cell_type": "markdown",
   "metadata": {},
   "source": [
    "### 2.3 Logical Operators\n",
    "\n",
    "Sometimes we need to make decisions based on multiple conditions. Logical operators are used to combine conditional statements.\n",
    "* Operands shall be conditions which can result in a boolean value.\n",
    "* The outcome of such an operation is either true or false too.\n",
    "\n",
    "| Operator | Description                                               | Example               |\n",
    "|:---------|:----------------------------------------------------------|:----------------------|\n",
    "| and      | Returns True if both statements are true                  | x < 5 and  x < 10     |\n",
    "| or       | Returns True if one of the statements is   true           | x < 5 or x < 4        |\n",
    "| not      | Reverse the result, returns False if the   result is true | not(x < 5 and x < 10) |"
   ]
  },
  {
   "cell_type": "code",
   "execution_count": null,
   "metadata": {},
   "outputs": [],
   "source": []
  },
  {
   "cell_type": "code",
   "execution_count": null,
   "metadata": {},
   "outputs": [],
   "source": []
  },
  {
   "cell_type": "code",
   "execution_count": null,
   "metadata": {},
   "outputs": [],
   "source": []
  },
  {
   "cell_type": "markdown",
   "metadata": {},
   "source": [
    "### 2.4 Identity Operators\n",
    "\n",
    "Identity Operators check whether two objects/variables are identical, i.e. whether they point to same memory locations.\n",
    "\n",
    "| Operator | Description                                            | Example    |\n",
    "|:---------|:-------------------------------------------------------|:-----------|\n",
    "| is       | Returns true if both variables are the same object     | x is y     |\n",
    "| is not   | Returns true if both variables are not the same object | x is not y |"
   ]
  },
  {
   "cell_type": "code",
   "execution_count": null,
   "metadata": {},
   "outputs": [],
   "source": []
  },
  {
   "cell_type": "code",
   "execution_count": null,
   "metadata": {},
   "outputs": [],
   "source": []
  },
  {
   "cell_type": "markdown",
   "metadata": {},
   "source": [
    "<u>*Question:*</u> \n",
    "* What the output of `x is y` if both `x` and `y` are set to a small integer value, e.g. `1`.\n",
    "* Are they pointing to same object? Use `id()` function to examine them."
   ]
  },
  {
   "cell_type": "code",
   "execution_count": null,
   "metadata": {},
   "outputs": [],
   "source": []
  },
  {
   "cell_type": "markdown",
   "metadata": {},
   "source": [
    "Identity Operator can also be used to determine whether a value is of a specific class or type."
   ]
  },
  {
   "cell_type": "code",
   "execution_count": null,
   "metadata": {},
   "outputs": [],
   "source": []
  },
  {
   "cell_type": "markdown",
   "metadata": {},
   "source": [
    "### 2.5 Membership Operators\n",
    "\n",
    "Membership operators enable us to test whether a value is a member of other Python objects such as strings, lists, or tuples.\n",
    "\n",
    "| Operator | Description                                                                      | Example    |\n",
    "|:---------|:---------------------------------------------------------------------------------|:-----------|\n",
    "| in       | Returns True if a sequence with the specified value is present in the object     | x in y     |\n",
    "| not in   | Returns True if a sequence with the specified value is not present in the object | x not in y |"
   ]
  },
  {
   "cell_type": "code",
   "execution_count": null,
   "metadata": {},
   "outputs": [],
   "source": []
  },
  {
   "cell_type": "code",
   "execution_count": null,
   "metadata": {},
   "outputs": [],
   "source": []
  },
  {
   "cell_type": "code",
   "execution_count": null,
   "metadata": {},
   "outputs": [],
   "source": []
  },
  {
   "cell_type": "code",
   "execution_count": null,
   "metadata": {},
   "outputs": [],
   "source": []
  },
  {
   "cell_type": "markdown",
   "metadata": {},
   "source": [
    "String is a collection of characters. It behaves very much like a list."
   ]
  },
  {
   "cell_type": "code",
   "execution_count": null,
   "metadata": {},
   "outputs": [],
   "source": []
  },
  {
   "cell_type": "code",
   "execution_count": null,
   "metadata": {},
   "outputs": [],
   "source": []
  }
 ],
 "metadata": {
  "kernelspec": {
   "display_name": "Python 3",
   "language": "python",
   "name": "python3"
  },
  "language_info": {
   "codemirror_mode": {
    "name": "ipython",
    "version": 3
   },
   "file_extension": ".py",
   "mimetype": "text/x-python",
   "name": "python",
   "nbconvert_exporter": "python",
   "pygments_lexer": "ipython3",
   "version": "3.7.3"
  },
  "toc": {
   "base_numbering": 1,
   "nav_menu": {},
   "number_sections": true,
   "sideBar": true,
   "skip_h1_title": false,
   "title_cell": "Table of Contents",
   "title_sidebar": "Contents",
   "toc_cell": false,
   "toc_position": {},
   "toc_section_display": true,
   "toc_window_display": true
  }
 },
 "nbformat": 4,
 "nbformat_minor": 2
}
